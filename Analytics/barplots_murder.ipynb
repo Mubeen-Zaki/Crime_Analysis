{
 "cells": [
  {
   "cell_type": "markdown",
   "id": "9eb7069c",
   "metadata": {},
   "source": [
    "# Importing libraries"
   ]
  },
  {
   "cell_type": "code",
   "execution_count": 1,
   "id": "ec371e7a",
   "metadata": {},
   "outputs": [],
   "source": [
    "import pandas as pd\n",
    "import matplotlib.pyplot as plt"
   ]
  },
  {
   "cell_type": "markdown",
   "id": "22b20983",
   "metadata": {},
   "source": [
    "# Reading .csv Files"
   ]
  },
  {
   "cell_type": "code",
   "execution_count": 23,
   "id": "7ec0b207",
   "metadata": {},
   "outputs": [],
   "source": [
    "murder_st = pd.read_csv(\"F:\\Downloads\\project_data\\murders_states.csv\", index_col = \"States\")"
   ]
  },
  {
   "cell_type": "code",
   "execution_count": 24,
   "id": "d889dda0",
   "metadata": {},
   "outputs": [
    {
     "data": {
      "text/html": [
       "<div>\n",
       "<style scoped>\n",
       "    .dataframe tbody tr th:only-of-type {\n",
       "        vertical-align: middle;\n",
       "    }\n",
       "\n",
       "    .dataframe tbody tr th {\n",
       "        vertical-align: top;\n",
       "    }\n",
       "\n",
       "    .dataframe thead th {\n",
       "        text-align: right;\n",
       "    }\n",
       "</style>\n",
       "<table border=\"1\" class=\"dataframe\">\n",
       "  <thead>\n",
       "    <tr style=\"text-align: right;\">\n",
       "      <th></th>\n",
       "      <th>2019</th>\n",
       "      <th>2020</th>\n",
       "      <th>2021</th>\n",
       "    </tr>\n",
       "    <tr>\n",
       "      <th>States</th>\n",
       "      <th></th>\n",
       "      <th></th>\n",
       "      <th></th>\n",
       "    </tr>\n",
       "  </thead>\n",
       "  <tbody>\n",
       "    <tr>\n",
       "      <th>Andhra Pradesh</th>\n",
       "      <td>870</td>\n",
       "      <td>853</td>\n",
       "      <td>956</td>\n",
       "    </tr>\n",
       "    <tr>\n",
       "      <th>Arunachal Pradesh</th>\n",
       "      <td>60</td>\n",
       "      <td>45</td>\n",
       "      <td>49</td>\n",
       "    </tr>\n",
       "    <tr>\n",
       "      <th>Assam</th>\n",
       "      <td>1235</td>\n",
       "      <td>1131</td>\n",
       "      <td>1192</td>\n",
       "    </tr>\n",
       "    <tr>\n",
       "      <th>Bihar</th>\n",
       "      <td>3138</td>\n",
       "      <td>3150</td>\n",
       "      <td>2799</td>\n",
       "    </tr>\n",
       "    <tr>\n",
       "      <th>Chhattisgarh</th>\n",
       "      <td>913</td>\n",
       "      <td>972</td>\n",
       "      <td>1007</td>\n",
       "    </tr>\n",
       "  </tbody>\n",
       "</table>\n",
       "</div>"
      ],
      "text/plain": [
       "                   2019  2020  2021\n",
       "States                             \n",
       "Andhra Pradesh      870   853   956\n",
       "Arunachal Pradesh    60    45    49\n",
       "Assam              1235  1131  1192\n",
       "Bihar              3138  3150  2799\n",
       "Chhattisgarh        913   972  1007"
      ]
     },
     "execution_count": 24,
     "metadata": {},
     "output_type": "execute_result"
    }
   ],
   "source": [
    "df = pd.DataFrame(murder_st)\n",
    "df.head()"
   ]
  },
  {
   "cell_type": "markdown",
   "id": "316d3494",
   "metadata": {},
   "source": [
    "# Taking input state name :"
   ]
  },
  {
   "cell_type": "code",
   "execution_count": 25,
   "id": "b70f9375",
   "metadata": {},
   "outputs": [
    {
     "name": "stdout",
     "output_type": "stream",
     "text": [
      "Telangana\n"
     ]
    }
   ],
   "source": [
    "st = input()\n",
    "st_data = df.loc[st]"
   ]
  },
  {
   "cell_type": "markdown",
   "id": "d0b0ebd7",
   "metadata": {},
   "source": [
    "# Plotting bar graphs :"
   ]
  },
  {
   "cell_type": "code",
   "execution_count": 27,
   "id": "9eb1db08",
   "metadata": {},
   "outputs": [
    {
     "data": {
      "image/png": "[encoded data removed]",
      "text/plain": [
       "<Figure size 432x288 with 1 Axes>"
      ]
     },
     "metadata": {
      "needs_background": "light"
     },
     "output_type": "display_data"
    }
   ],
   "source": [
    "plt.bar(st_data.index, st_data.values, color = \"Maroon\", width = 0.4)\n",
    "plt.xlabel(\"Years\")\n",
    "plt.ylabel(\"Number of murders\")\n",
    "plt.title(\"Murders in \" + st + \" during 2019 - 2021\")\n",
    "plt.show()"
   ]
  }
 ],
 "metadata": {
  "kernelspec": {
   "display_name": "Python 3 (ipykernel)",
   "language": "python",
   "name": "python3"
  },
  "language_info": {
   "codemirror_mode": {
    "name": "ipython",
    "version": 3
   },
   "file_extension": ".py",
   "mimetype": "text/x-python",
   "name": "python",
   "nbconvert_exporter": "python",
   "pygments_lexer": "ipython3",
   "version": "3.9.12"
  }
 },
 "nbformat": 4,
 "nbformat_minor": 5
}
